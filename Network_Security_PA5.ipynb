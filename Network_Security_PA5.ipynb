{
 "cells": [
  {
   "cell_type": "markdown",
   "id": "ccbe4572",
   "metadata": {},
   "source": [
    "# NETWORK SECURITY PA5\n",
    "\n",
    "### NAME:- ANUPAM CHAUDHARY\n",
    "### Roll no: 19085012\n",
    "### Branch: EEE(B.Tech)\n",
    "\n",
    "\n",
    "### github_link "
   ]
  },
  {
   "cell_type": "markdown",
   "id": "b50e64a1",
   "metadata": {},
   "source": [
    "## ElGamal Encryption Algorithm"
   ]
  },
  {
   "cell_type": "markdown",
   "id": "6b08459e",
   "metadata": {},
   "source": [
    "**ElGamal encryption** is a public-key cryptosystem. It uses asymmetric key encryption for communicating between two parties and encrypting the message. \n",
    "This cryptosystem is based on the difficulty of finding discrete logarithm in a cyclic group that is even if we know g^a and g^k, it is extremely difficult to compute g^(ak).\n",
    "\n",
    "**Idea of ElGamal cryptosystem**\n",
    "\n",
    "Suppose Alice wants to communicate with Bob. \n",
    " \n",
    "\n",
    "   1. Bob generates public and private keys: \n",
    "     - Bob chooses a very large number **q** and a cyclic group **Fq**.\n",
    "     - From the cyclic group **Fq**, he choose any element **g** and\n",
    "       an element **a** such that gcd(a, q) = 1.\n",
    "     - Then he computes h = g^a.\n",
    "     - Bob publishes **F**, **h** = **g^a**, **q**, and **g** as his            public key and retains **a** as private key.\n",
    "        \n",
    "   2. Alice encrypts data using Bob’s public key : \n",
    "     - Alice selects an element **k** from cyclic group **F** \n",
    "     - such that gcd(k, q) = 1.\n",
    "     - Then she computes p = g^k and s = h^k = g^(ak).\n",
    "     - She multiples s with M.\n",
    "     - Then she sends (p, M*s) = (g^k, M*s).\n",
    "        \n",
    "   3. Bob decrypts the message : \n",
    "     - Bob calculates s′ = p^a = g^(ak).\n",
    "     - He divides M*s by s′ to obtain M as s = s′."
   ]
  },
  {
   "cell_type": "markdown",
   "id": "2afc4d5f",
   "metadata": {},
   "source": [
    "`Following is the implementation of the ElGamal cryptosystem in Python `"
   ]
  },
  {
   "cell_type": "code",
   "execution_count": 3,
   "id": "fda4547f",
   "metadata": {},
   "outputs": [],
   "source": [
    "# Python program to illustrate ElGamal encryption\n",
    " \n",
    "import random\n",
    "from math import pow\n",
    " \n",
    "a = random.randint(2, 10)\n",
    " \n",
    "def gcd(a, b):\n",
    "    if a < b:\n",
    "        return gcd(b, a)\n",
    "    elif a % b == 0:\n",
    "        return b;\n",
    "    else:\n",
    "        return gcd(b, a % b)"
   ]
  },
  {
   "cell_type": "code",
   "execution_count": 4,
   "id": "19c569da",
   "metadata": {},
   "outputs": [],
   "source": [
    "# Generating large random numbers\n",
    "\n",
    "def gen_key(q):\n",
    " \n",
    "    key = random.randint(pow(10, 20), q)\n",
    "    while gcd(q, key) != 1:\n",
    "        key = random.randint(pow(10, 20), q)\n",
    " \n",
    "    return key"
   ]
  },
  {
   "cell_type": "code",
   "execution_count": 5,
   "id": "f60ac764",
   "metadata": {},
   "outputs": [],
   "source": [
    "# Modular exponentiation\n",
    "\n",
    "def power(a, b, c):\n",
    "    x = 1\n",
    "    y = a\n",
    " \n",
    "    while b > 0:\n",
    "        if b % 2 != 0:\n",
    "            x = (x * y) % c;\n",
    "        y = (y * y) % c\n",
    "        b = int(b / 2)\n",
    " \n",
    "    return x % c"
   ]
  },
  {
   "cell_type": "code",
   "execution_count": 6,
   "id": "0750c42c",
   "metadata": {},
   "outputs": [],
   "source": [
    "# Asymmetric encryption\n",
    "\n",
    "def encrypt(msg, q, h, g):\n",
    " \n",
    "    en_msg = []\n",
    " \n",
    "    k = gen_key(q)        # Private key for sender\n",
    "    s = power(h, k, q)\n",
    "    p = power(g, k, q)\n",
    "     \n",
    "    for i in range(0, len(msg)):\n",
    "        en_msg.append(msg[i])\n",
    " \n",
    "    print(\"g^k used : \", p)\n",
    "    print(\"g^ak used : \", s)\n",
    "    for i in range(0, len(en_msg)):\n",
    "        en_msg[i] = s * ord(en_msg[i])\n",
    " \n",
    "    return en_msg, p\n",
    " \n",
    "def decrypt(en_msg, p, key, q):\n",
    " \n",
    "    dr_msg = []\n",
    "    h = power(p, key, q)\n",
    "    for i in range(0, len(en_msg)):\n",
    "        dr_msg.append(chr(int(en_msg[i]/h)))\n",
    "         \n",
    "    return dr_msg"
   ]
  },
  {
   "cell_type": "code",
   "execution_count": 7,
   "id": "66e55f22",
   "metadata": {},
   "outputs": [
    {
     "name": "stdout",
     "output_type": "stream",
     "text": [
      "Original Message : encryption\n",
      "g used :  26874773050036972288053445767350392587165794181823\n",
      "g^a used :  11240220165927684794171494564090019640091057606581\n",
      "g^k used :  5314702595415324927173927700253711318675191203803\n",
      "g^ak used :  13725212784835240640512214149074982382837622683921\n",
      "Decrypted Message : encryption\n"
     ]
    }
   ],
   "source": [
    "# Driver code\n",
    "\n",
    "def main():\n",
    " \n",
    "    msg = 'encryption'\n",
    "    print(\"Original Message :\", msg)\n",
    " \n",
    "    q = random.randint(pow(10, 20), pow(10, 50))\n",
    "    g = random.randint(2, q)\n",
    " \n",
    "    key = gen_key(q)      # Private key for receiver\n",
    "    h = power(g, key, q)\n",
    "    print(\"g used : \", g)\n",
    "    print(\"g^a used : \", h)\n",
    " \n",
    "    en_msg, p = encrypt(msg, q, h, g)\n",
    "    dr_msg = decrypt(en_msg, p, key, q)\n",
    "    dmsg = ''.join(dr_msg)\n",
    "    print(\"Decrypted Message :\", dmsg);\n",
    " \n",
    " \n",
    "if __name__ == '__main__':\n",
    "    main()"
   ]
  },
  {
   "cell_type": "markdown",
   "id": "6a1d866c",
   "metadata": {},
   "source": [
    "<p>In this cryptosystem, the original message M is masked by multiplying g^ak to it. To remove the mask, a clue is given in form of g^k. Unless someone knows a, he will not be able to retrieve M. This is because finding discrete log in a cyclic group is difficult and simplifying knowing g^a and g^k is not good enough to compute g^ak.</p>"
   ]
  },
  {
   "cell_type": "code",
   "execution_count": null,
   "id": "6c2aa5dd",
   "metadata": {},
   "outputs": [],
   "source": []
  }
 ],
 "metadata": {
  "kernelspec": {
   "display_name": "Python 3",
   "language": "python",
   "name": "python3"
  },
  "language_info": {
   "codemirror_mode": {
    "name": "ipython",
    "version": 3
   },
   "file_extension": ".py",
   "mimetype": "text/x-python",
   "name": "python",
   "nbconvert_exporter": "python",
   "pygments_lexer": "ipython3",
   "version": "3.8.5"
  }
 },
 "nbformat": 4,
 "nbformat_minor": 5
}
